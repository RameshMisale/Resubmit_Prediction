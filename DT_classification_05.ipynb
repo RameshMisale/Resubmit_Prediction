{
 "cells": [
  {
   "cell_type": "markdown",
   "id": "55498676",
   "metadata": {},
   "source": [
    "###  Predicting resubmit/returned profiles using machine learning "
   ]
  },
  {
   "cell_type": "markdown",
   "id": "8be4a508",
   "metadata": {},
   "source": [
    "Importing all required modules"
   ]
  },
  {
   "cell_type": "code",
   "execution_count": 1,
   "id": "976adb15",
   "metadata": {},
   "outputs": [],
   "source": [
    "import pandas as pd\n",
    "import numpy as np\n",
    "import matplotlib\n",
    "from matplotlib import pyplot as plt\n",
    "from sklearn import metrics \n",
    "pd.set_option('display.max_columns', 0)\n",
    "from sklearn.model_selection import train_test_split\n",
    "from sklearn.ensemble import RandomForestClassifier\n",
    "from sklearn.metrics import accuracy_score, classification_report\n",
    "from sklearn.model_selection import StratifiedShuffleSplit\n",
    "from sklearn.preprocessing import OneHotEncoder, LabelEncoder\n",
    "from sklearn.ensemble import RandomForestClassifier, ExtraTreesClassifier\n",
    "from sklearn.dummy import DummyClassifier\n",
    "from sklearn.metrics import classification_report, accuracy_score\n",
    "from sklearn.metrics import  confusion_matrix\n",
    "from sklearn.feature_selection import VarianceThreshold\n",
    "from statsmodels.stats.outliers_influence import variance_inflation_factor\n",
    "import seaborn as sns\n",
    "from sklearn.feature_selection import mutual_info_classif\n",
    "from sklearn.metrics import precision_score, recall_score, f1_score\n",
    "from sklearn.naive_bayes import GaussianNB\n",
    "from sklearn.neighbors import KNeighborsClassifier"
   ]
  },
  {
   "cell_type": "markdown",
   "id": "cfad34e6",
   "metadata": {},
   "source": [
    "Loading the dataset using pandas"
   ]
  },
  {
   "cell_type": "code",
   "execution_count": 2,
   "id": "6c0a6b8f",
   "metadata": {},
   "outputs": [],
   "source": [
    "df = pd.read_excel(r\"C:\\Users\\RameshMisale\\Downloads\\Latest_profile_data.xlsx\")"
   ]
  },
  {
   "cell_type": "code",
   "execution_count": 34,
   "id": "89119faf",
   "metadata": {},
   "outputs": [
    {
     "data": {
      "text/plain": [
       "Index(['profile_number', 'profile_id', 'profile_name', 'web_profile_number',\n",
       "       'description', 'status_desc', 'queue_desc', 'DaysInitiatedToSubmitted',\n",
       "       'DaysSubmitToAssign', 'DaysAssignReadyForGenSign',\n",
       "       ...\n",
       "       'unused_commercial_product_flag', 'subject_to_subpart_cc_flag',\n",
       "       'web_profile_number.1', 'web_generator_number', 'incin_prep_flag',\n",
       "       'no_uhcs_flag', 'Tx_in_state_code', 'initial_revision_profile_id',\n",
       "       'copied_from_Id.1', 'presignedstatus'],\n",
       "      dtype='object', length=278)"
      ]
     },
     "execution_count": 34,
     "metadata": {},
     "output_type": "execute_result"
    }
   ],
   "source": [
    "df.columns"
   ]
  },
  {
   "cell_type": "code",
   "execution_count": 4,
   "id": "589c2525",
   "metadata": {},
   "outputs": [],
   "source": [
    "df1 = df.copy()"
   ]
  },
  {
   "cell_type": "markdown",
   "id": "2df6a684",
   "metadata": {},
   "source": [
    "The resubmit stage in datetime format so converting into binary and this is our target variable "
   ]
  },
  {
   "cell_type": "code",
   "execution_count": 5,
   "id": "65f9f710",
   "metadata": {},
   "outputs": [],
   "source": [
    "df1['Resubmit'] = pd.to_datetime(df1['Resubmit'])\n",
    "df1['Resubmit_binary'] = df1['queue_desc'].apply(lambda x: 1 if x=='Resubmit' else 0)"
   ]
  },
  {
   "cell_type": "code",
   "execution_count": 6,
   "id": "4e121888",
   "metadata": {},
   "outputs": [
    {
     "data": {
      "text/plain": [
       "0    64493\n",
       "1     1475\n",
       "Name: Resubmit_binary, dtype: int64"
      ]
     },
     "execution_count": 6,
     "metadata": {},
     "output_type": "execute_result"
    }
   ],
   "source": [
    "df1['Resubmit_binary'].value_counts() "
   ]
  },
  {
   "cell_type": "markdown",
   "id": "60af88b8",
   "metadata": {},
   "source": [
    "Filling the null values "
   ]
  },
  {
   "cell_type": "code",
   "execution_count": 7,
   "id": "20b060e3",
   "metadata": {},
   "outputs": [],
   "source": [
    "columns_to_fill = ['rcra_non_haz_exempt','halogens_flag','no_reactivity_flag','layered','viscosity','odor_flag','ph_flag',\n",
    "    'flash_point_flag','boiling_point_flag','btu_per_lbs','pumpable_waste_flag','polymerizable_flag','benzene_waste_flag',\n",
    "    'voc_100_ppm','marine_pollutant_flag','origin_code','sds_attached','specific_gravity','benzene_section_flag',\n",
    "    'max_benzene_flag','benzene_water','prohibited_land_disposal','uts_waste','voc_500_ppm','specialpricing_flag',\n",
    "    'intercompany_flag','mgp_flag','pa_waste_catogory','debris','compressed_gas','analytical_ind',\n",
    "    'generatorknowledge_ind','sds_ind','formulary_attached','analytical_attached','sample_provided','mgplock_flag',\n",
    "    'naics_flag','federal_universal_waste','generator_state_universal_waste']\n",
    "df1[columns_to_fill] = df1[columns_to_fill].fillna(0, inplace=False)"
   ]
  },
  {
   "cell_type": "code",
   "execution_count": 8,
   "id": "aacc0bd5",
   "metadata": {},
   "outputs": [],
   "source": [
    "col = ['water_percentage', 'toc_percentage']\n",
    "df1[col] = df1[col].fillna(df1[col].mean(), inplace=False)"
   ]
  },
  {
   "cell_type": "markdown",
   "id": "64b6a6ab",
   "metadata": {},
   "source": [
    "Dropping the object and datatime columns"
   ]
  },
  {
   "cell_type": "code",
   "execution_count": 9,
   "id": "b31abd84",
   "metadata": {},
   "outputs": [
    {
     "name": "stdout",
     "output_type": "stream",
     "text": [
      "Index(['profile_number', 'profile_name', 'description', 'status_desc',\n",
      "       'queue_desc', 'Initiated', 'HistoryInitiated', 'Submitted', 'Assigned',\n",
      "       'Resubmit', 'ReadyForGenSign', 'SentForGenSign', 'DocSignReturned',\n",
      "       'Approved', 'vendor_name', 'OriginStatus', 'SourceSystem',\n",
      "       'GeneratorName', 'Customer Service Rep', 'CustomerName', 'Salesrep',\n",
      "       'SalesrepEmail', 'profile_number.1', 'profile_name.1',\n",
      "       'rcra_process_generating', 'pcbs_ppm', 'cyanides_ppm', 'sulfides_ppm',\n",
      "       'pesticides_ppm', 'dioxins_ppm', 'halogens_pct', 'other_reactivity',\n",
      "       'solid_pct', 'sludges_pct', 'free_liquids_pct', 'dust_pct', 'odor_desc',\n",
      "       'color_desc', 'density', 'ph_exact_value', 'comments',\n",
      "       'record_create_datetime', 'approval_letter_notes',\n",
      "       'helper_approval_date', 'helper_recert_needed_date',\n",
      "       'helper_last_received_date', 'helper_expired_date', 'approval_date',\n",
      "       'helper_first_received_date', 'bulk_sample_anniversary_date',\n",
      "       'outbound_expiration_date', 'customer_signature_datetime',\n",
      "       'customer_signature_name', 'customer_signature_title',\n",
      "       'notify_on_first_receipt_last_updated', 'PurchaseOrderNumber',\n",
      "       'viscosity_actual', 'specific_gravity_actual', 'flashpoint_actual',\n",
      "       'btu_actual', 'waste_characteristics_boxes', 'max_benzene',\n",
      "       'prohibited_land_disposal_actual', 'uts_waste_actual',\n",
      "       'boiling_pt_actual', 'flashpoint_scale', 'boiling_scale',\n",
      "       'RCRA_exemption_reason', 'naics_codes', 'Activate_Date',\n",
      "       'expiration_Date', 'disposal_instructions_comments', 'pricing_status',\n",
      "       'LastModifiedDate', 'container_size_type', 'web_generator_number',\n",
      "       'Tx_in_state_code'],\n",
      "      dtype='object')\n"
     ]
    }
   ],
   "source": [
    "object_columns = df1.select_dtypes(include=['object','datetime64']).columns\n",
    "df_dropped_objects = df1.drop(object_columns, axis=1)\n",
    "print(object_columns)"
   ]
  },
  {
   "cell_type": "markdown",
   "id": "ee0e3cbb",
   "metadata": {},
   "source": [
    "Feature selection dropping constant feature"
   ]
  },
  {
   "cell_type": "code",
   "execution_count": 10,
   "id": "b4f61199",
   "metadata": {},
   "outputs": [
    {
     "name": "stderr",
     "output_type": "stream",
     "text": [
      "C:\\Users\\RameshMisale\\anaconda3\\Lib\\site-packages\\sklearn\\feature_selection\\_variance_threshold.py:112: RuntimeWarning: Degrees of freedom <= 0 for slice.\n",
      "  self.variances_ = np.nanvar(X, axis=0)\n",
      "C:\\Users\\RameshMisale\\anaconda3\\Lib\\site-packages\\sklearn\\feature_selection\\_variance_threshold.py:120: RuntimeWarning: All-NaN slice encountered\n",
      "  self.variances_ = np.nanmin(compare_arr, axis=0)\n"
     ]
    },
    {
     "data": {
      "text/html": [
       "<style>#sk-container-id-1 {\n",
       "  /* Definition of color scheme common for light and dark mode */\n",
       "  --sklearn-color-text: black;\n",
       "  --sklearn-color-line: gray;\n",
       "  /* Definition of color scheme for unfitted estimators */\n",
       "  --sklearn-color-unfitted-level-0: #fff5e6;\n",
       "  --sklearn-color-unfitted-level-1: #f6e4d2;\n",
       "  --sklearn-color-unfitted-level-2: #ffe0b3;\n",
       "  --sklearn-color-unfitted-level-3: chocolate;\n",
       "  /* Definition of color scheme for fitted estimators */\n",
       "  --sklearn-color-fitted-level-0: #f0f8ff;\n",
       "  --sklearn-color-fitted-level-1: #d4ebff;\n",
       "  --sklearn-color-fitted-level-2: #b3dbfd;\n",
       "  --sklearn-color-fitted-level-3: cornflowerblue;\n",
       "\n",
       "  /* Specific color for light theme */\n",
       "  --sklearn-color-text-on-default-background: var(--sg-text-color, var(--theme-code-foreground, var(--jp-content-font-color1, black)));\n",
       "  --sklearn-color-background: var(--sg-background-color, var(--theme-background, var(--jp-layout-color0, white)));\n",
       "  --sklearn-color-border-box: var(--sg-text-color, var(--theme-code-foreground, var(--jp-content-font-color1, black)));\n",
       "  --sklearn-color-icon: #696969;\n",
       "\n",
       "  @media (prefers-color-scheme: dark) {\n",
       "    /* Redefinition of color scheme for dark theme */\n",
       "    --sklearn-color-text-on-default-background: var(--sg-text-color, var(--theme-code-foreground, var(--jp-content-font-color1, white)));\n",
       "    --sklearn-color-background: var(--sg-background-color, var(--theme-background, var(--jp-layout-color0, #111)));\n",
       "    --sklearn-color-border-box: var(--sg-text-color, var(--theme-code-foreground, var(--jp-content-font-color1, white)));\n",
       "    --sklearn-color-icon: #878787;\n",
       "  }\n",
       "}\n",
       "\n",
       "#sk-container-id-1 {\n",
       "  color: var(--sklearn-color-text);\n",
       "}\n",
       "\n",
       "#sk-container-id-1 pre {\n",
       "  padding: 0;\n",
       "}\n",
       "\n",
       "#sk-container-id-1 input.sk-hidden--visually {\n",
       "  border: 0;\n",
       "  clip: rect(1px 1px 1px 1px);\n",
       "  clip: rect(1px, 1px, 1px, 1px);\n",
       "  height: 1px;\n",
       "  margin: -1px;\n",
       "  overflow: hidden;\n",
       "  padding: 0;\n",
       "  position: absolute;\n",
       "  width: 1px;\n",
       "}\n",
       "\n",
       "#sk-container-id-1 div.sk-dashed-wrapped {\n",
       "  border: 1px dashed var(--sklearn-color-line);\n",
       "  margin: 0 0.4em 0.5em 0.4em;\n",
       "  box-sizing: border-box;\n",
       "  padding-bottom: 0.4em;\n",
       "  background-color: var(--sklearn-color-background);\n",
       "}\n",
       "\n",
       "#sk-container-id-1 div.sk-container {\n",
       "  /* jupyter's `normalize.less` sets `[hidden] { display: none; }`\n",
       "     but bootstrap.min.css set `[hidden] { display: none !important; }`\n",
       "     so we also need the `!important` here to be able to override the\n",
       "     default hidden behavior on the sphinx rendered scikit-learn.org.\n",
       "     See: https://github.com/scikit-learn/scikit-learn/issues/21755 */\n",
       "  display: inline-block !important;\n",
       "  position: relative;\n",
       "}\n",
       "\n",
       "#sk-container-id-1 div.sk-text-repr-fallback {\n",
       "  display: none;\n",
       "}\n",
       "\n",
       "div.sk-parallel-item,\n",
       "div.sk-serial,\n",
       "div.sk-item {\n",
       "  /* draw centered vertical line to link estimators */\n",
       "  background-image: linear-gradient(var(--sklearn-color-text-on-default-background), var(--sklearn-color-text-on-default-background));\n",
       "  background-size: 2px 100%;\n",
       "  background-repeat: no-repeat;\n",
       "  background-position: center center;\n",
       "}\n",
       "\n",
       "/* Parallel-specific style estimator block */\n",
       "\n",
       "#sk-container-id-1 div.sk-parallel-item::after {\n",
       "  content: \"\";\n",
       "  width: 100%;\n",
       "  border-bottom: 2px solid var(--sklearn-color-text-on-default-background);\n",
       "  flex-grow: 1;\n",
       "}\n",
       "\n",
       "#sk-container-id-1 div.sk-parallel {\n",
       "  display: flex;\n",
       "  align-items: stretch;\n",
       "  justify-content: center;\n",
       "  background-color: var(--sklearn-color-background);\n",
       "  position: relative;\n",
       "}\n",
       "\n",
       "#sk-container-id-1 div.sk-parallel-item {\n",
       "  display: flex;\n",
       "  flex-direction: column;\n",
       "}\n",
       "\n",
       "#sk-container-id-1 div.sk-parallel-item:first-child::after {\n",
       "  align-self: flex-end;\n",
       "  width: 50%;\n",
       "}\n",
       "\n",
       "#sk-container-id-1 div.sk-parallel-item:last-child::after {\n",
       "  align-self: flex-start;\n",
       "  width: 50%;\n",
       "}\n",
       "\n",
       "#sk-container-id-1 div.sk-parallel-item:only-child::after {\n",
       "  width: 0;\n",
       "}\n",
       "\n",
       "/* Serial-specific style estimator block */\n",
       "\n",
       "#sk-container-id-1 div.sk-serial {\n",
       "  display: flex;\n",
       "  flex-direction: column;\n",
       "  align-items: center;\n",
       "  background-color: var(--sklearn-color-background);\n",
       "  padding-right: 1em;\n",
       "  padding-left: 1em;\n",
       "}\n",
       "\n",
       "\n",
       "/* Toggleable style: style used for estimator/Pipeline/ColumnTransformer box that is\n",
       "clickable and can be expanded/collapsed.\n",
       "- Pipeline and ColumnTransformer use this feature and define the default style\n",
       "- Estimators will overwrite some part of the style using the `sk-estimator` class\n",
       "*/\n",
       "\n",
       "/* Pipeline and ColumnTransformer style (default) */\n",
       "\n",
       "#sk-container-id-1 div.sk-toggleable {\n",
       "  /* Default theme specific background. It is overwritten whether we have a\n",
       "  specific estimator or a Pipeline/ColumnTransformer */\n",
       "  background-color: var(--sklearn-color-background);\n",
       "}\n",
       "\n",
       "/* Toggleable label */\n",
       "#sk-container-id-1 label.sk-toggleable__label {\n",
       "  cursor: pointer;\n",
       "  display: block;\n",
       "  width: 100%;\n",
       "  margin-bottom: 0;\n",
       "  padding: 0.5em;\n",
       "  box-sizing: border-box;\n",
       "  text-align: center;\n",
       "}\n",
       "\n",
       "#sk-container-id-1 label.sk-toggleable__label-arrow:before {\n",
       "  /* Arrow on the left of the label */\n",
       "  content: \"▸\";\n",
       "  float: left;\n",
       "  margin-right: 0.25em;\n",
       "  color: var(--sklearn-color-icon);\n",
       "}\n",
       "\n",
       "#sk-container-id-1 label.sk-toggleable__label-arrow:hover:before {\n",
       "  color: var(--sklearn-color-text);\n",
       "}\n",
       "\n",
       "/* Toggleable content - dropdown */\n",
       "\n",
       "#sk-container-id-1 div.sk-toggleable__content {\n",
       "  max-height: 0;\n",
       "  max-width: 0;\n",
       "  overflow: hidden;\n",
       "  text-align: left;\n",
       "  /* unfitted */\n",
       "  background-color: var(--sklearn-color-unfitted-level-0);\n",
       "}\n",
       "\n",
       "#sk-container-id-1 div.sk-toggleable__content.fitted {\n",
       "  /* fitted */\n",
       "  background-color: var(--sklearn-color-fitted-level-0);\n",
       "}\n",
       "\n",
       "#sk-container-id-1 div.sk-toggleable__content pre {\n",
       "  margin: 0.2em;\n",
       "  border-radius: 0.25em;\n",
       "  color: var(--sklearn-color-text);\n",
       "  /* unfitted */\n",
       "  background-color: var(--sklearn-color-unfitted-level-0);\n",
       "}\n",
       "\n",
       "#sk-container-id-1 div.sk-toggleable__content.fitted pre {\n",
       "  /* unfitted */\n",
       "  background-color: var(--sklearn-color-fitted-level-0);\n",
       "}\n",
       "\n",
       "#sk-container-id-1 input.sk-toggleable__control:checked~div.sk-toggleable__content {\n",
       "  /* Expand drop-down */\n",
       "  max-height: 200px;\n",
       "  max-width: 100%;\n",
       "  overflow: auto;\n",
       "}\n",
       "\n",
       "#sk-container-id-1 input.sk-toggleable__control:checked~label.sk-toggleable__label-arrow:before {\n",
       "  content: \"▾\";\n",
       "}\n",
       "\n",
       "/* Pipeline/ColumnTransformer-specific style */\n",
       "\n",
       "#sk-container-id-1 div.sk-label input.sk-toggleable__control:checked~label.sk-toggleable__label {\n",
       "  color: var(--sklearn-color-text);\n",
       "  background-color: var(--sklearn-color-unfitted-level-2);\n",
       "}\n",
       "\n",
       "#sk-container-id-1 div.sk-label.fitted input.sk-toggleable__control:checked~label.sk-toggleable__label {\n",
       "  background-color: var(--sklearn-color-fitted-level-2);\n",
       "}\n",
       "\n",
       "/* Estimator-specific style */\n",
       "\n",
       "/* Colorize estimator box */\n",
       "#sk-container-id-1 div.sk-estimator input.sk-toggleable__control:checked~label.sk-toggleable__label {\n",
       "  /* unfitted */\n",
       "  background-color: var(--sklearn-color-unfitted-level-2);\n",
       "}\n",
       "\n",
       "#sk-container-id-1 div.sk-estimator.fitted input.sk-toggleable__control:checked~label.sk-toggleable__label {\n",
       "  /* fitted */\n",
       "  background-color: var(--sklearn-color-fitted-level-2);\n",
       "}\n",
       "\n",
       "#sk-container-id-1 div.sk-label label.sk-toggleable__label,\n",
       "#sk-container-id-1 div.sk-label label {\n",
       "  /* The background is the default theme color */\n",
       "  color: var(--sklearn-color-text-on-default-background);\n",
       "}\n",
       "\n",
       "/* On hover, darken the color of the background */\n",
       "#sk-container-id-1 div.sk-label:hover label.sk-toggleable__label {\n",
       "  color: var(--sklearn-color-text);\n",
       "  background-color: var(--sklearn-color-unfitted-level-2);\n",
       "}\n",
       "\n",
       "/* Label box, darken color on hover, fitted */\n",
       "#sk-container-id-1 div.sk-label.fitted:hover label.sk-toggleable__label.fitted {\n",
       "  color: var(--sklearn-color-text);\n",
       "  background-color: var(--sklearn-color-fitted-level-2);\n",
       "}\n",
       "\n",
       "/* Estimator label */\n",
       "\n",
       "#sk-container-id-1 div.sk-label label {\n",
       "  font-family: monospace;\n",
       "  font-weight: bold;\n",
       "  display: inline-block;\n",
       "  line-height: 1.2em;\n",
       "}\n",
       "\n",
       "#sk-container-id-1 div.sk-label-container {\n",
       "  text-align: center;\n",
       "}\n",
       "\n",
       "/* Estimator-specific */\n",
       "#sk-container-id-1 div.sk-estimator {\n",
       "  font-family: monospace;\n",
       "  border: 1px dotted var(--sklearn-color-border-box);\n",
       "  border-radius: 0.25em;\n",
       "  box-sizing: border-box;\n",
       "  margin-bottom: 0.5em;\n",
       "  /* unfitted */\n",
       "  background-color: var(--sklearn-color-unfitted-level-0);\n",
       "}\n",
       "\n",
       "#sk-container-id-1 div.sk-estimator.fitted {\n",
       "  /* fitted */\n",
       "  background-color: var(--sklearn-color-fitted-level-0);\n",
       "}\n",
       "\n",
       "/* on hover */\n",
       "#sk-container-id-1 div.sk-estimator:hover {\n",
       "  /* unfitted */\n",
       "  background-color: var(--sklearn-color-unfitted-level-2);\n",
       "}\n",
       "\n",
       "#sk-container-id-1 div.sk-estimator.fitted:hover {\n",
       "  /* fitted */\n",
       "  background-color: var(--sklearn-color-fitted-level-2);\n",
       "}\n",
       "\n",
       "/* Specification for estimator info (e.g. \"i\" and \"?\") */\n",
       "\n",
       "/* Common style for \"i\" and \"?\" */\n",
       "\n",
       ".sk-estimator-doc-link,\n",
       "a:link.sk-estimator-doc-link,\n",
       "a:visited.sk-estimator-doc-link {\n",
       "  float: right;\n",
       "  font-size: smaller;\n",
       "  line-height: 1em;\n",
       "  font-family: monospace;\n",
       "  background-color: var(--sklearn-color-background);\n",
       "  border-radius: 1em;\n",
       "  height: 1em;\n",
       "  width: 1em;\n",
       "  text-decoration: none !important;\n",
       "  margin-left: 1ex;\n",
       "  /* unfitted */\n",
       "  border: var(--sklearn-color-unfitted-level-1) 1pt solid;\n",
       "  color: var(--sklearn-color-unfitted-level-1);\n",
       "}\n",
       "\n",
       ".sk-estimator-doc-link.fitted,\n",
       "a:link.sk-estimator-doc-link.fitted,\n",
       "a:visited.sk-estimator-doc-link.fitted {\n",
       "  /* fitted */\n",
       "  border: var(--sklearn-color-fitted-level-1) 1pt solid;\n",
       "  color: var(--sklearn-color-fitted-level-1);\n",
       "}\n",
       "\n",
       "/* On hover */\n",
       "div.sk-estimator:hover .sk-estimator-doc-link:hover,\n",
       ".sk-estimator-doc-link:hover,\n",
       "div.sk-label-container:hover .sk-estimator-doc-link:hover,\n",
       ".sk-estimator-doc-link:hover {\n",
       "  /* unfitted */\n",
       "  background-color: var(--sklearn-color-unfitted-level-3);\n",
       "  color: var(--sklearn-color-background);\n",
       "  text-decoration: none;\n",
       "}\n",
       "\n",
       "div.sk-estimator.fitted:hover .sk-estimator-doc-link.fitted:hover,\n",
       ".sk-estimator-doc-link.fitted:hover,\n",
       "div.sk-label-container:hover .sk-estimator-doc-link.fitted:hover,\n",
       ".sk-estimator-doc-link.fitted:hover {\n",
       "  /* fitted */\n",
       "  background-color: var(--sklearn-color-fitted-level-3);\n",
       "  color: var(--sklearn-color-background);\n",
       "  text-decoration: none;\n",
       "}\n",
       "\n",
       "/* Span, style for the box shown on hovering the info icon */\n",
       ".sk-estimator-doc-link span {\n",
       "  display: none;\n",
       "  z-index: 9999;\n",
       "  position: relative;\n",
       "  font-weight: normal;\n",
       "  right: .2ex;\n",
       "  padding: .5ex;\n",
       "  margin: .5ex;\n",
       "  width: min-content;\n",
       "  min-width: 20ex;\n",
       "  max-width: 50ex;\n",
       "  color: var(--sklearn-color-text);\n",
       "  box-shadow: 2pt 2pt 4pt #999;\n",
       "  /* unfitted */\n",
       "  background: var(--sklearn-color-unfitted-level-0);\n",
       "  border: .5pt solid var(--sklearn-color-unfitted-level-3);\n",
       "}\n",
       "\n",
       ".sk-estimator-doc-link.fitted span {\n",
       "  /* fitted */\n",
       "  background: var(--sklearn-color-fitted-level-0);\n",
       "  border: var(--sklearn-color-fitted-level-3);\n",
       "}\n",
       "\n",
       ".sk-estimator-doc-link:hover span {\n",
       "  display: block;\n",
       "}\n",
       "\n",
       "/* \"?\"-specific style due to the `<a>` HTML tag */\n",
       "\n",
       "#sk-container-id-1 a.estimator_doc_link {\n",
       "  float: right;\n",
       "  font-size: 1rem;\n",
       "  line-height: 1em;\n",
       "  font-family: monospace;\n",
       "  background-color: var(--sklearn-color-background);\n",
       "  border-radius: 1rem;\n",
       "  height: 1rem;\n",
       "  width: 1rem;\n",
       "  text-decoration: none;\n",
       "  /* unfitted */\n",
       "  color: var(--sklearn-color-unfitted-level-1);\n",
       "  border: var(--sklearn-color-unfitted-level-1) 1pt solid;\n",
       "}\n",
       "\n",
       "#sk-container-id-1 a.estimator_doc_link.fitted {\n",
       "  /* fitted */\n",
       "  border: var(--sklearn-color-fitted-level-1) 1pt solid;\n",
       "  color: var(--sklearn-color-fitted-level-1);\n",
       "}\n",
       "\n",
       "/* On hover */\n",
       "#sk-container-id-1 a.estimator_doc_link:hover {\n",
       "  /* unfitted */\n",
       "  background-color: var(--sklearn-color-unfitted-level-3);\n",
       "  color: var(--sklearn-color-background);\n",
       "  text-decoration: none;\n",
       "}\n",
       "\n",
       "#sk-container-id-1 a.estimator_doc_link.fitted:hover {\n",
       "  /* fitted */\n",
       "  background-color: var(--sklearn-color-fitted-level-3);\n",
       "}\n",
       "</style><div id=\"sk-container-id-1\" class=\"sk-top-container\"><div class=\"sk-text-repr-fallback\"><pre>VarianceThreshold(threshold=0)</pre><b>In a Jupyter environment, please rerun this cell to show the HTML representation or trust the notebook. <br />On GitHub, the HTML representation is unable to render, please try loading this page with nbviewer.org.</b></div><div class=\"sk-container\" hidden><div class=\"sk-item\"><div class=\"sk-estimator fitted sk-toggleable\"><input class=\"sk-toggleable__control sk-hidden--visually\" id=\"sk-estimator-id-1\" type=\"checkbox\" checked><label for=\"sk-estimator-id-1\" class=\"sk-toggleable__label fitted sk-toggleable__label-arrow fitted\">&nbsp;&nbsp;VarianceThreshold<a class=\"sk-estimator-doc-link fitted\" rel=\"noreferrer\" target=\"_blank\" href=\"https://scikit-learn.org/1.4/modules/generated/sklearn.feature_selection.VarianceThreshold.html\">?<span>Documentation for VarianceThreshold</span></a><span class=\"sk-estimator-doc-link fitted\">i<span>Fitted</span></span></label><div class=\"sk-toggleable__content fitted\"><pre>VarianceThreshold(threshold=0)</pre></div> </div></div></div></div>"
      ],
      "text/plain": [
       "VarianceThreshold(threshold=0)"
      ]
     },
     "execution_count": 10,
     "metadata": {},
     "output_type": "execute_result"
    }
   ],
   "source": [
    "var_thres=VarianceThreshold(threshold=0)\n",
    "var_thres.fit(df_dropped_objects)"
   ]
  },
  {
   "cell_type": "markdown",
   "id": "a25c9baa",
   "metadata": {},
   "source": [
    "Printing the columns with their values which are constants "
   ]
  },
  {
   "cell_type": "code",
   "execution_count": 11,
   "id": "0d25b226",
   "metadata": {},
   "outputs": [
    {
     "name": "stdout",
     "output_type": "stream",
     "text": [
      "Number of constant columns: 17\n",
      "Constant column: phenolics_ppm\n",
      "Unique values: [nan  0.]\n",
      "\n",
      "\n",
      "Constant column: minimum_packaging_requirements\n",
      "Unique values: [nan]\n",
      "\n",
      "\n",
      "Constant column: outbound_profile_taxes\n",
      "Unique values: [nan]\n",
      "\n",
      "\n",
      "Constant column: inbound_oubound_id_xref\n",
      "Unique values: [nan]\n",
      "\n",
      "\n",
      "Constant column: ky_report_physical_state_ind\n",
      "Unique values: [nan]\n",
      "\n",
      "\n",
      "Constant column: ky_report_onsite_ind\n",
      "Unique values: [nan]\n",
      "\n",
      "\n",
      "Constant column: contract_id\n",
      "Unique values: [nan]\n",
      "\n",
      "\n",
      "Constant column: sic_code\n",
      "Unique values: [nan]\n",
      "\n",
      "\n",
      "Constant column: pet_chem_flag\n",
      "Unique values: [nan  0.]\n",
      "\n",
      "\n",
      "Constant column: pet_chem_actual\n",
      "Unique values: [nan]\n",
      "\n",
      "\n",
      "Constant column: cokeoven_flag\n",
      "Unique values: [ 0. nan]\n",
      "\n",
      "\n",
      "Constant column: HCSId\n",
      "Unique values: [ 0. nan]\n",
      "\n",
      "\n",
      "Constant column: container_size_flag\n",
      "Unique values: [ 1. nan]\n",
      "\n",
      "\n",
      "Constant column: waste_type_id\n",
      "Unique values: [nan]\n",
      "\n",
      "\n",
      "Constant column: highly_toxic_flag\n",
      "Unique values: [nan  0.]\n",
      "\n",
      "\n",
      "Constant column: incin_prep_flag\n",
      "Unique values: [nan  1.]\n",
      "\n",
      "\n",
      "Constant column: no_uhcs_flag\n",
      "Unique values: [nan  1.]\n",
      "\n",
      "\n"
     ]
    }
   ],
   "source": [
    "constant_columns = [column for column in df_dropped_objects.columns\n",
    "                    if column not in df_dropped_objects.columns[var_thres.get_support()]]\n",
    "print(f\"Number of constant columns: {len(constant_columns)}\")\n",
    "for feature in constant_columns:\n",
    "    unique_values = df_dropped_objects[feature].unique()\n",
    "    print(f\"Constant column: {feature}\")\n",
    "    print(f\"Unique values: {unique_values}\")\n",
    "    print(\"\\n\")\n",
    "#phenolics_flag,dioxins_flag,solid_pct,cylinder_flag,naics_codes,no_reactivity_flag,other_reactivity"
   ]
  },
  {
   "cell_type": "code",
   "execution_count": 12,
   "id": "5b1076fc",
   "metadata": {},
   "outputs": [],
   "source": [
    "data = df_dropped_objects.drop(constant_columns,axis=1) "
   ]
  },
  {
   "cell_type": "markdown",
   "id": "8f44968d",
   "metadata": {},
   "source": [
    "Feature_selection by correlation and dropped the features which are having >80% correlation with each other"
   ]
  },
  {
   "cell_type": "code",
   "execution_count": 13,
   "id": "e114a626",
   "metadata": {},
   "outputs": [],
   "source": [
    "def correlation(dataset,threshold):\n",
    "    col_corr=set()\n",
    "    corr_matrix=dataset.corr()\n",
    "    for i in range(len(corr_matrix.columns)):\n",
    "        for j in range(i):\n",
    "            if abs(corr_matrix.iloc[i,j]>threshold):\n",
    "                colname=corr_matrix.columns[i]\n",
    "                col_corr.add(colname)\n",
    "    return col_corr"
   ]
  },
  {
   "cell_type": "code",
   "execution_count": 14,
   "id": "db2617a7",
   "metadata": {},
   "outputs": [
    {
     "name": "stdout",
     "output_type": "stream",
     "text": [
      "{'flammable_solid_flag', 'metals_flag', 'outbound_vendor_id.1', 'formulary_attached', 'btu_per_lbs', 'oral_toxicity_flag_liquid', 'CustomerId.1', 'ph_flag', 'dust_hazard_flag', 'bulk_solid_flag', 'rush_flag.1', 'oxidizer_flag', 'urgent_flag.1', 'ProfiledTonnage', 'cercla_flag', 'presignedstatus', 'subject_to_subpart_cc_flag', 'vendor_id.1', 'use_eei_rate', 'radioactive_flag', 'asbestos_friable_flag', 'no_reactivity_flag', 'layered', 'infectious_flag', 'copied_from_Id.1', 'medical_sharps_needles_flag', 'cylinder_flag', 'pesticide_herbicide_flag', 'puso_flag', 'pfas_pfoa_flag', 'RevenueAssignedToVendorId', 'initial_revision_profile_id', 'web_profile_number.1', 'JobID', 'OracleLocationCode', 'ammonia_flag', 'profile_id.1', 'loosepack_flag', 'aphis_waste_flag', 'rcra_debris_flag', 'subpart_p_flag', 'unused_commercial_product_flag', 'spill_residue_flag', 'none_flag', 'standard_flag.1', 'waste_water_flag', 'ppe_code_id', 'asbestos_non_friable_flag', 'organic_peroxide_flag', 'company_id', 'isRecertified.1', 'outbound_profile_ind.1'}\n"
     ]
    }
   ],
   "source": [
    "corr_features=correlation(data,0.8)\n",
    "len(set(corr_features))\n",
    "print(corr_features)\n",
    "#phenolics_flag,dioxins_flag,solid_pct,cylinder_flag,naics_codes,no_reactivity_flag,other_reactivity\n",
    "\n",
    "#no_reactivity_flag,cylinder_flag- corr\n",
    "#6 ids \n",
    "#solid_pct ,naics_codes ,other_reactivity,profile_id are objects"
   ]
  },
  {
   "cell_type": "code",
   "execution_count": null,
   "id": "9a1f39fe",
   "metadata": {},
   "outputs": [],
   "source": [
    "pcbs_flag\n",
    "cyanides_flag\n",
    "sulfides_flag\n",
    "pesticides_flag\n",
    "phenolics_flag\n",
    "dioxins_flag\n",
    "halogens_flag\n",
    "infectious_bio_waste_flag\n",
    "nrc_regulated_radioactive_flag\n",
    "pyrophoric_reactivity_flag\n",
    "cyanides_reactivity_flag\n",
    "sulfides_reactivity_flag\n",
    "water_reactivity_flag\n",
    "shock_reactivity_flag\n",
    "dot_explosive_flag\n",
    "gas_flag\n",
    "aerosol_flag\n",
    "lab_pack_flag\n",
    "monolith_flag\n",
    "solid_flag\n",
    "sludges_flag\n",
    "flash_point_flag\n",
    "boiling_point_flag\n",
    "benzene_waste_flag\n",
    "labpack_flag\n",
    "directship_flag\n",
    "specialpricing_flag\n",
    "intercompany_flag\n",
    "hybrid_flag\n",
    "mgp_flag\n",
    "national_flag\n",
    "naics_flag\n",
    "isRecertified"
   ]
  },
  {
   "cell_type": "code",
   "execution_count": 15,
   "id": "6747bc6f",
   "metadata": {},
   "outputs": [],
   "source": [
    "data1=data.drop(corr_features,axis=1)"
   ]
  },
  {
   "cell_type": "markdown",
   "id": "ba418b96",
   "metadata": {},
   "source": [
    "Dropping the columns which are having >90 % of null values"
   ]
  },
  {
   "cell_type": "code",
   "execution_count": 16,
   "id": "87aa708f",
   "metadata": {},
   "outputs": [],
   "source": [
    "threshold_percentage = 90 \n",
    "null_percentage = (data1.isnull().sum() / len(data1)) * 100\n",
    "columns_to_drop = null_percentage[null_percentage > threshold_percentage].index\n",
    "data1_dropped = data1.drop(columns=columns_to_drop)\n",
    "#data1_dropped.isnull().sum()"
   ]
  },
  {
   "cell_type": "code",
   "execution_count": 17,
   "id": "c97f4879",
   "metadata": {},
   "outputs": [],
   "source": [
    "data1_dropped = data1_dropped.fillna(0) "
   ]
  },
  {
   "cell_type": "code",
   "execution_count": 18,
   "id": "e2cbc403",
   "metadata": {},
   "outputs": [
    {
     "data": {
      "text/plain": [
       "(65968, 87)"
      ]
     },
     "execution_count": 18,
     "metadata": {},
     "output_type": "execute_result"
    }
   ],
   "source": [
    "df_final = data1_dropped.drop(columns=['DaysAssignReadyForGenSign','ReturnCount',\n",
    "                                  'DaysSubmitToAssign','DaysAssignReadyForGenSign','DaysReadyForGenSignSentForGenSign',\n",
    "                            'container_type_id','DaysInitiatedToSubmitted',\n",
    "'vendor_id','ContractID','ldr_class_id','CustomerId','CollectionId','DaysDocSignReturnedToApproved',\n",
    "'Recert','is_template_profile_flag','status_code_id','source_code_id','form_code_id',\n",
    "'management_method_code_id','outbound_profile_id','price_type_code_id','health_chemical_identity_id',\n",
    "'flammability_chemical_identity_id','reactivity_chemical_identity_id','process_code_id',\n",
    "'SalesrepID','InternalCoordinatorID','MarketDriverID','InsideSalesRepID','requested_process_code_id'],axis=1)\n",
    "df_final.shape"
   ]
  },
  {
   "cell_type": "code",
   "execution_count": 57,
   "id": "0c8a7774",
   "metadata": {},
   "outputs": [
    {
     "data": {
      "text/plain": [
       "profile_id                             0\n",
       "web_profile_number                     0\n",
       "DaysSentForGenSignToDocSignReturned    0\n",
       "IsHaz                                  0\n",
       "outbound_profile_ind                   0\n",
       "                                      ..\n",
       "label_type                             0\n",
       "federal_universal_waste                0\n",
       "generator_state_universal_waste        0\n",
       "revision_num                           0\n",
       "Resubmit_binary                        0\n",
       "Length: 87, dtype: int64"
      ]
     },
     "execution_count": 57,
     "metadata": {},
     "output_type": "execute_result"
    }
   ],
   "source": [
    "df_final.isnull().sum()"
   ]
  },
  {
   "cell_type": "code",
   "execution_count": 67,
   "id": "1b5532ba",
   "metadata": {},
   "outputs": [
    {
     "data": {
      "text/plain": [
       "(65968, 35)"
      ]
     },
     "execution_count": 67,
     "metadata": {},
     "output_type": "execute_result"
    }
   ],
   "source": [
    "selected_columns = [\n",
    "    'profile_id','flash_point_flag', 'water_reactivity_flag', 'monolith_flag', 'sulfides_reactivity_flag', 'cyanides_reactivity_flag',\n",
    "    'intercompany_flag', 'specialpricing_flag', 'benzene_waste_flag', 'sulfides_flag', 'solid_flag', 'hybrid_flag',\n",
    "    'shock_reactivity_flag', 'nrc_regulated_radioactive_flag', 'lab_pack_flag', 'gas_flag', 'directship_flag',\n",
    "    'naics_flag', 'infectious_bio_waste_flag', 'mgp_flag', 'aerosol_flag', 'pyrophoric_reactivity_flag', 'sludges_flag',\n",
    "    'pcbs_flag', 'halogens_flag', 'cyanides_flag', 'pesticides_flag', 'dot_explosive_flag',\n",
    "    'boiling_point_flag', 'isRecertified', 'labpack_flag', 'national_flag','urgent_flag','rush_flag'\n",
    "]\n",
    "\n",
    "new_dataframe = df_final[selected_columns + ['Resubmit_binary']]\n",
    "\n",
    "new_dataframe.shape\n"
   ]
  },
  {
   "cell_type": "code",
   "execution_count": 53,
   "id": "bc80f16d",
   "metadata": {},
   "outputs": [
    {
     "data": {
      "text/plain": [
       "Index(['profile_id', 'flash_point_flag', 'water_reactivity_flag',\n",
       "       'monolith_flag', 'sulfides_reactivity_flag', 'cyanides_reactivity_flag',\n",
       "       'intercompany_flag', 'specialpricing_flag', 'benzene_waste_flag',\n",
       "       'sulfides_flag', 'solid_flag', 'hybrid_flag', 'shock_reactivity_flag',\n",
       "       'nrc_regulated_radioactive_flag', 'lab_pack_flag', 'gas_flag',\n",
       "       'directship_flag', 'naics_flag', 'infectious_bio_waste_flag',\n",
       "       'mgp_flag', 'aerosol_flag', 'pyrophoric_reactivity_flag',\n",
       "       'sludges_flag', 'parent_profile_id', 'pcbs_flag', 'halogens_flag',\n",
       "       'cyanides_flag', 'pesticides_flag', 'dot_explosive_flag',\n",
       "       'boiling_point_flag', 'isRecertified', 'labpack_flag', 'national_flag',\n",
       "       'Resubmit_binary'],\n",
       "      dtype='object')"
      ]
     },
     "execution_count": 53,
     "metadata": {},
     "output_type": "execute_result"
    }
   ],
   "source": [
    "new_dataframe.columns"
   ]
  },
  {
   "cell_type": "code",
   "execution_count": 68,
   "id": "37669b31",
   "metadata": {},
   "outputs": [
    {
     "data": {
      "text/plain": [
       "profile_id                        0\n",
       "flash_point_flag                  0\n",
       "water_reactivity_flag             0\n",
       "monolith_flag                     0\n",
       "sulfides_reactivity_flag          0\n",
       "cyanides_reactivity_flag          0\n",
       "intercompany_flag                 0\n",
       "specialpricing_flag               0\n",
       "benzene_waste_flag                0\n",
       "sulfides_flag                     0\n",
       "solid_flag                        0\n",
       "hybrid_flag                       0\n",
       "shock_reactivity_flag             0\n",
       "nrc_regulated_radioactive_flag    0\n",
       "lab_pack_flag                     0\n",
       "gas_flag                          0\n",
       "directship_flag                   0\n",
       "naics_flag                        0\n",
       "infectious_bio_waste_flag         0\n",
       "mgp_flag                          0\n",
       "aerosol_flag                      0\n",
       "pyrophoric_reactivity_flag        0\n",
       "sludges_flag                      0\n",
       "pcbs_flag                         0\n",
       "halogens_flag                     0\n",
       "cyanides_flag                     0\n",
       "pesticides_flag                   0\n",
       "dot_explosive_flag                0\n",
       "boiling_point_flag                0\n",
       "isRecertified                     0\n",
       "labpack_flag                      0\n",
       "national_flag                     0\n",
       "urgent_flag                       0\n",
       "rush_flag                         0\n",
       "Resubmit_binary                   0\n",
       "dtype: int64"
      ]
     },
     "execution_count": 68,
     "metadata": {},
     "output_type": "execute_result"
    }
   ],
   "source": [
    "new_dataframe.isnull().sum()"
   ]
  },
  {
   "cell_type": "code",
   "execution_count": 69,
   "id": "f92b6443",
   "metadata": {},
   "outputs": [
    {
     "data": {
      "text/plain": [
       "Index(['profile_id', 'flash_point_flag', 'water_reactivity_flag',\n",
       "       'monolith_flag', 'sulfides_reactivity_flag', 'cyanides_reactivity_flag',\n",
       "       'intercompany_flag', 'specialpricing_flag', 'benzene_waste_flag',\n",
       "       'sulfides_flag', 'solid_flag', 'hybrid_flag', 'shock_reactivity_flag',\n",
       "       'nrc_regulated_radioactive_flag', 'lab_pack_flag', 'gas_flag',\n",
       "       'directship_flag', 'naics_flag', 'infectious_bio_waste_flag',\n",
       "       'mgp_flag', 'aerosol_flag', 'pyrophoric_reactivity_flag',\n",
       "       'sludges_flag', 'pcbs_flag', 'halogens_flag', 'cyanides_flag',\n",
       "       'pesticides_flag', 'dot_explosive_flag', 'boiling_point_flag',\n",
       "       'isRecertified', 'labpack_flag', 'national_flag', 'urgent_flag',\n",
       "       'rush_flag', 'Resubmit_binary'],\n",
       "      dtype='object')"
      ]
     },
     "execution_count": 69,
     "metadata": {},
     "output_type": "execute_result"
    }
   ],
   "source": [
    "new_dataframe.columns"
   ]
  },
  {
   "cell_type": "code",
   "execution_count": 70,
   "id": "4f01be55",
   "metadata": {},
   "outputs": [],
   "source": [
    "X = new_dataframe.drop('Resubmit_binary', axis=1)\n",
    "y = new_dataframe['Resubmit_binary']\n",
    "X_train, X_test, y_train, y_test = train_test_split(X,y,test_size=0.2,random_state=42)"
   ]
  },
  {
   "cell_type": "code",
   "execution_count": 71,
   "id": "73f79d01",
   "metadata": {},
   "outputs": [
    {
     "name": "stdout",
     "output_type": "stream",
     "text": [
      "0    64493\n",
      "1     1475\n",
      "Name: Resubmit_binary, dtype: int64\n"
     ]
    }
   ],
   "source": [
    "print(df_final['Resubmit_binary'].value_counts())\n"
   ]
  },
  {
   "cell_type": "markdown",
   "id": "c4cd3219",
   "metadata": {},
   "source": [
    "Feature selection using entropy typically involves selecting features based on their information gain or entropy."
   ]
  },
  {
   "cell_type": "markdown",
   "id": "447beeb7",
   "metadata": {},
   "source": [
    "# Logistic Regression"
   ]
  },
  {
   "cell_type": "code",
   "execution_count": null,
   "id": "70c5b459",
   "metadata": {},
   "outputs": [],
   "source": [
    "# X = new_dataframe.drop('Resubmit_binary', axis=1)\n",
    "# y = new_dataframe['Resubmit_binary']\n",
    "# X_train, X_test, y_train, y_test = train_test_split(X,y,test_size=0.2,random_state=42)\n",
    "# from sklearn.linear_model import LogisticRegression\n",
    "# from sklearn.metrics import precision_score, recall_score, f1_score\n",
    "# logistic_regression = LogisticRegression()\n",
    "# logistic_regression.fit(X_train, y_train)\n",
    "# y_pred_lr_train = logistic_regression.predict(X_train)\n",
    "# y_pred_lr_test = logistic_regression.predict(X_test)\n",
    "\n",
    "# # Accuracy\n",
    "# accuracy_lr_train = accuracy_score(y_train, y_pred_lr_train)\n",
    "# accuracy_lr_test = accuracy_score(y_test, y_pred_lr_test)\n",
    "# print(f'Logistic Regression Training Accuracy: {accuracy_lr_train}')\n",
    "# print(f'Logistic Regression Testing Accuracy: {accuracy_lr_test}')\n",
    "# # classification report\n",
    "# # print(classification_report(y_test, y_pred_lr_test))\n",
    "# # print(confusion_matrix(y_test, y_pred_lr_test)) \n",
    "\n",
    "# precision_lr_test = precision_score(y_test, y_pred_lr_test)\n",
    "# recall_lr_test = recall_score(y_test, y_pred_lr_test)\n",
    "# f1_lr_test = f1_score(y_test, y_pred_lr_test)\n",
    "\n",
    "# # Display precision, recall, and f1-score\n",
    "# print(f'\\nPrecision: {precision_lr_test:.4f}')\n",
    "# print(f'Recall: {recall_lr_test:.4f}')\n",
    "# print(f'F1-Score: {f1_lr_test:.4f}')\n",
    "\n"
   ]
  },
  {
   "cell_type": "markdown",
   "id": "6af26123",
   "metadata": {},
   "source": [
    "# DT"
   ]
  },
  {
   "cell_type": "code",
   "execution_count": null,
   "id": "1f669aea",
   "metadata": {},
   "outputs": [],
   "source": [
    "# from sklearn.tree import DecisionTreeClassifier\n",
    "# decision_tree = DecisionTreeClassifier(criterion='gini',max_depth=5)\n",
    "# decision_tree.fit(X_train, y_train)\n",
    "# y_pred_dt_train = decision_tree.predict(X_train)\n",
    "# y_pred_dt_test = decision_tree.predict(X_test)\n",
    "# accuracy_dt_train = accuracy_score(y_train, y_pred_dt_train)\n",
    "# accuracy_dt_test = accuracy_score(y_test, y_pred_dt_test)\n",
    "# print(f'Decision Tree Training Accuracy: {accuracy_dt_train}')\n",
    "# print(f'Decision Tree Testing Accuracy: {accuracy_dt_test}')\n",
    "# # # classification report\n",
    "# # print(classification_report(y_test, y_pred_dt_test))\n",
    "# # print(confusion_matrix(y_test, y_pred_dt_test))\n",
    "\n",
    "# precision_dt_test = precision_score(y_test, y_pred_dt_test)\n",
    "# recall_dt_test = recall_score(y_test, y_pred_dt_test)\n",
    "# f1_dt_test = f1_score(y_test, y_pred_dt_test)\n",
    "\n",
    "# # Display precision, recall, and f1-score\n",
    "# print(f'\\nPrecision: {precision_dt_test:.4f}')\n",
    "# print(f'Recall: {recall_dt_test:.4f}')\n",
    "# print(f'F1-Score: {f1_dt_test:.4f}')"
   ]
  },
  {
   "cell_type": "code",
   "execution_count": null,
   "id": "c301ce69",
   "metadata": {},
   "outputs": [],
   "source": [
    "# from sklearn.naive_bayes import GaussianNB\n",
    "# naive_bayes = GaussianNB()\n",
    "# naive_bayes.fit(X_train, y_train)\n",
    "# y_pred_nb_train = naive_bayes.predict(X_train)\n",
    "# y_pred_nb_test = naive_bayes.predict(X_test)\n",
    "\n",
    "# # Accuracy\n",
    "# accuracy_nb_train = accuracy_score(y_train, y_pred_nb_train)\n",
    "# accuracy_nb_test = accuracy_score(y_test, y_pred_nb_test)\n",
    "# print(f'Naive Bayes Training Accuracy: {accuracy_nb_train:.4f}')\n",
    "# print(f'Naive Bayes Testing Accuracy: {accuracy_nb_test:.4f}')\n",
    "\n",
    "# # Precision, Recall, and F1-Score\n",
    "# precision_nb_test = precision_score(y_test, y_pred_nb_test)\n",
    "# recall_nb_test = recall_score(y_test, y_pred_nb_test)\n",
    "# f1_nb_test = f1_score(y_test, y_pred_nb_test)\n",
    "\n",
    "# # Display precision, recall, and f1-score\n",
    "# print(f'\\nPrecision: {precision_nb_test:.4f}')\n",
    "# print(f'Recall: {recall_nb_test:.4f}')\n",
    "# print(f'F1-Score: {f1_nb_test:.4f}')\n"
   ]
  },
  {
   "cell_type": "code",
   "execution_count": null,
   "id": "114894ed",
   "metadata": {},
   "outputs": [],
   "source": [
    "# from sklearn.neighbors import KNeighborsClassifier\n",
    "# k_neighbors = 7\n",
    "# knn_classifier = KNeighborsClassifier(n_neighbors=k_neighbors)\n",
    "# knn_classifier.fit(X_train, y_train)\n",
    "# y_pred_knn_train = knn_classifier.predict(X_train)\n",
    "\n",
    "# # Predictions on the test set\n",
    "# y_pred_knn_test = knn_classifier.predict(X_test)\n",
    "\n",
    "# # Accuracy\n",
    "# accuracy_knn_train = accuracy_score(y_train, y_pred_knn_train)\n",
    "# accuracy_knn_test = accuracy_score(y_test, y_pred_knn_test)\n",
    "# print(f'KNN Training Accuracy: {accuracy_knn_train:.4f}')\n",
    "# print(f'KNN Testing Accuracy: {accuracy_knn_test:.4f}')\n",
    "\n",
    "# # Precision, Recall, and F1-Score\n",
    "# precision_knn_test = precision_score(y_test, y_pred_knn_test)\n",
    "# recall_knn_test = recall_score(y_test, y_pred_knn_test)\n",
    "# f1_knn_test = f1_score(y_test, y_pred_knn_test)\n",
    "\n",
    "# # Display precision, recall, and f1-score\n",
    "# print(f'\\nPrecision: {precision_knn_test:.4f}')\n",
    "# print(f'Recall: {recall_knn_test:.4f}')\n",
    "# print(f'F1-Score: {f1_knn_test:.4f}')\n"
   ]
  },
  {
   "cell_type": "code",
   "execution_count": null,
   "id": "928d3873",
   "metadata": {},
   "outputs": [],
   "source": [
    "# from sklearn.ensemble import IsolationForest\n",
    "# from sklearn.metrics import accuracy_score, precision_score, recall_score, f1_score\n",
    "# isolation_forest_model = IsolationForest(contamination=0.01, random_state=42)\n",
    "# isolation_forest_model.fit(X_train)\n",
    "# y_pred_rf_train = isolation_forest_model.predict(X_train)\n",
    "# y_pred_rf_test = isolation_forest_model.predict(X_test)\n",
    "# # Convert predictions to binary labels (1 for outliers, -1 for inliers)\n",
    "# y_pred_rf_train_binary = [1 if pred == -1 else 0 for pred in y_pred_rf_train]\n",
    "# y_pred_rf_test_binary = [1 if pred == -1 else 0 for pred in y_pred_rf_test]\n",
    "# accuracy_rf_train = accuracy_score(y_train, y_pred_rf_train_binary)\n",
    "# accuracy_rf_test = accuracy_score(y_test, y_pred_rf_test_binary)\n",
    "# print(f'Isolation Forest Training Accuracy: {accuracy_rf_train}')\n",
    "# print(f'Isolation Forest Testing Accuracy: {accuracy_rf_test}')\n",
    "\n",
    "# precision_rf_test = precision_score(y_test, y_pred_rf_test_binary)\n",
    "# recall_rf_test = recall_score(y_test, y_pred_rf_test_binary)\n",
    "# f1_rf_test = f1_score(y_test, y_pred_rf_test_binary)\n",
    "\n",
    "# print(f'\\nPrecision: {precision_rf_test:.4f}')\n",
    "# print(f'Recall: {recall_rf_test:.4f}')\n",
    "# print(f'F1-Score: {f1_rf_test:.4f}')\n"
   ]
  },
  {
   "cell_type": "markdown",
   "id": "9a86de05",
   "metadata": {},
   "source": [
    "# Under Sampling"
   ]
  },
  {
   "cell_type": "code",
   "execution_count": 95,
   "id": "5895f141",
   "metadata": {},
   "outputs": [
    {
     "data": {
      "text/plain": [
       "Index(['profile_id', 'flash_point_flag', 'water_reactivity_flag',\n",
       "       'monolith_flag', 'sulfides_reactivity_flag', 'cyanides_reactivity_flag',\n",
       "       'intercompany_flag', 'specialpricing_flag', 'benzene_waste_flag',\n",
       "       'sulfides_flag', 'solid_flag', 'hybrid_flag', 'shock_reactivity_flag',\n",
       "       'nrc_regulated_radioactive_flag', 'lab_pack_flag', 'gas_flag',\n",
       "       'directship_flag', 'naics_flag', 'infectious_bio_waste_flag',\n",
       "       'mgp_flag', 'aerosol_flag', 'pyrophoric_reactivity_flag',\n",
       "       'sludges_flag', 'pcbs_flag', 'halogens_flag', 'cyanides_flag',\n",
       "       'pesticides_flag', 'dot_explosive_flag', 'boiling_point_flag',\n",
       "       'isRecertified', 'labpack_flag', 'national_flag', 'urgent_flag',\n",
       "       'rush_flag', 'Resubmit_binary'],\n",
       "      dtype='object')"
      ]
     },
     "execution_count": 95,
     "metadata": {},
     "output_type": "execute_result"
    }
   ],
   "source": [
    "new_dataframe.columns"
   ]
  },
  {
   "cell_type": "code",
   "execution_count": 73,
   "id": "566353d8",
   "metadata": {},
   "outputs": [],
   "source": [
    "XX = new_dataframe.drop('Resubmit_binary', axis='columns')\n",
    "yy = new_dataframe['Resubmit_binary']\n",
    "#X_train, X_test, y_train, y_test = train_test_split(X, y, test_size=0.2, random_state=42)"
   ]
  },
  {
   "cell_type": "code",
   "execution_count": 74,
   "id": "1d97aca7",
   "metadata": {},
   "outputs": [],
   "source": [
    "count_0_class,count_1_class = new_dataframe.Resubmit_binary.value_counts()\n",
    "df_class_0 = new_dataframe[new_dataframe[\"Resubmit_binary\"]==0]\n",
    "df_class_1 = new_dataframe[new_dataframe[\"Resubmit_binary\"]==1]\n",
    "XX_train, XX_test, yy_train, yy_test = train_test_split(XX,yy, test_size=0.2,random_state=15,stratify=yy)"
   ]
  },
  {
   "cell_type": "code",
   "execution_count": 75,
   "id": "c2fcbff8",
   "metadata": {},
   "outputs": [],
   "source": [
    "# count_0_class_under = int(count_0_class*0.8)\n",
    "# df_class_0_under = df_class_0.sample(count_0_class_under)\n",
    "# df_test_under = pd.concat([df_class_0_under, df_class_1], axis=0)\n",
    "\n",
    "# print('Random Under-sampling:')\n",
    "# print(df_test_under.Resubmit_binary.value_counts())"
   ]
  },
  {
   "cell_type": "code",
   "execution_count": 76,
   "id": "f56c6bf2",
   "metadata": {},
   "outputs": [],
   "source": [
    "# df_class_0_under = df_class_0.sample(count_1_class)\n",
    "# df_test_under = pd.concat([df_class_0_under, df_class_1],axis=0)\n",
    "# print('Random Under-sampling:')\n",
    "# print(df_test_under.Resubmit_binary.value_counts())"
   ]
  },
  {
   "cell_type": "code",
   "execution_count": 77,
   "id": "ea2f3e4c",
   "metadata": {},
   "outputs": [],
   "source": [
    "# XX = df_test_under.drop('Resubmit_binary', axis='columns')\n",
    "# yy= df_test_under['Resubmit_binary']\n",
    "# #XX_train, XX_test, yy_train, yy_test = train_test_split(XX,yy, test_size=0.2,random_state=42,stratify=yy)"
   ]
  },
  {
   "cell_type": "code",
   "execution_count": 78,
   "id": "9fb9e28f",
   "metadata": {},
   "outputs": [
    {
     "name": "stdout",
     "output_type": "stream",
     "text": [
      "Random Under-sampling for Training Data:\n",
      "0    1180\n",
      "1    1180\n",
      "Name: Resubmit_binary, dtype: int64\n"
     ]
    }
   ],
   "source": [
    "XX_train, XX_test, yy_train, yy_test = train_test_split(XX, yy, test_size=0.2, random_state=15, stratify=yy)\n",
    "\n",
    "df_class_0_train = XX_train[yy_train == 0]\n",
    "df_class_1_train = XX_train[yy_train == 1]\n",
    "df_class_0_under_train = df_class_0_train.sample(n=len(df_class_1_train), replace=True, random_state=42)\n",
    "XX_train_under = pd.concat([df_class_0_under_train, df_class_1_train], axis=0)\n",
    "yy_train_under = yy_train.loc[XX_train_under.index]\n",
    "\n",
    "print('Random Under-sampling for Training Data:')\n",
    "print(yy_train_under.value_counts())\n"
   ]
  },
  {
   "cell_type": "code",
   "execution_count": 79,
   "id": "a452561a",
   "metadata": {},
   "outputs": [
    {
     "data": {
      "text/plain": [
       "(2360, 34)"
      ]
     },
     "execution_count": 79,
     "metadata": {},
     "output_type": "execute_result"
    }
   ],
   "source": [
    "XX_train_under.shape"
   ]
  },
  {
   "cell_type": "code",
   "execution_count": 80,
   "id": "ab9b52a2",
   "metadata": {},
   "outputs": [
    {
     "data": {
      "text/plain": [
       "0    12899\n",
       "1      295\n",
       "Name: Resubmit_binary, dtype: int64"
      ]
     },
     "execution_count": 80,
     "metadata": {},
     "output_type": "execute_result"
    }
   ],
   "source": [
    "yy_test.value_counts()"
   ]
  },
  {
   "cell_type": "code",
   "execution_count": 84,
   "id": "292d5132",
   "metadata": {},
   "outputs": [
    {
     "name": "stdout",
     "output_type": "stream",
     "text": [
      "Logistic Regression Training Accuracy: 0.7016949152542373\n",
      "Logistic Regression Testing Accuracy: 0.7420797332120661\n",
      "\n",
      "Precision: 0.0563\n",
      "Recall: 0.6678\n",
      "F1-Score: 0.1038\n"
     ]
    }
   ],
   "source": [
    "# from sklearn.linear_model import LogisticRegression\n",
    "# from sklearn.metrics import precision_score, recall_score, f1_score\n",
    "# logistic_regression = LogisticRegression()\n",
    "# logistic_regression.fit(XX_train_under, yy_train_under)\n",
    "# y_pred_lr_train = logistic_regression.predict(XX_train_under)\n",
    "# y_pred_lr_test = logistic_regression.predict(XX_test)\n",
    "# accuracy_lr_train = accuracy_score(yy_train_under, y_pred_lr_train)\n",
    "# accuracy_lr_test = accuracy_score(yy_test, y_pred_lr_test)\n",
    "# print(f'Logistic Regression Training Accuracy: {accuracy_lr_train}')\n",
    "# print(f'Logistic Regression Testing Accuracy: {accuracy_lr_test}')\n",
    "# precision_lr_test = precision_score(yy_test, y_pred_lr_test)\n",
    "# recall_lr_test = recall_score(yy_test, y_pred_lr_test)\n",
    "# f1_lr_test = f1_score(yy_test, y_pred_lr_test)\n",
    "\n",
    "# print(f'\\nPrecision: {precision_lr_test:.4f}')\n",
    "# print(f'Recall: {recall_lr_test:.4f}')\n",
    "# print(f'F1-Score: {f1_lr_test:.4f}')\n",
    "\n",
    "# # cv_scores = cross_val_score(logistic_regression, XX_train, yy_train, cv=10) \n",
    "# # print(\"Cross-Validation Scores:\", cv_scores)"
   ]
  },
  {
   "cell_type": "markdown",
   "id": "062cbd80",
   "metadata": {},
   "source": [
    "# Decision_tree"
   ]
  },
  {
   "cell_type": "code",
   "execution_count": 82,
   "id": "3db3a501",
   "metadata": {},
   "outputs": [
    {
     "name": "stdout",
     "output_type": "stream",
     "text": [
      "Decision Tree Training Accuracy: 0.7432203389830508\n",
      "Decision Tree Testing Accuracy: 0.7394270122783083\n",
      "\n",
      "Precision: 0.0597\n",
      "Recall: 0.7220\n",
      "F1-Score: 0.1102\n"
     ]
    }
   ],
   "source": [
    "from sklearn.tree import DecisionTreeClassifier\n",
    "from sklearn.model_selection import cross_val_score\n",
    "\n",
    "decision_tree = DecisionTreeClassifier(criterion='gini',max_depth=5)\n",
    "decision_tree.fit(XX_train_under, yy_train_under)\n",
    "y_pred_dt_train = decision_tree.predict(XX_train_under)\n",
    "y_pred_dt_test = decision_tree.predict(XX_test)\n",
    "accuracy_dt_train = accuracy_score(yy_train_under, y_pred_dt_train)\n",
    "accuracy_dt_test = accuracy_score(yy_test, y_pred_dt_test)\n",
    "print(f'Decision Tree Training Accuracy: {accuracy_dt_train}')\n",
    "print(f'Decision Tree Testing Accuracy: {accuracy_dt_test}')\n",
    "# # classification report\n",
    "# print(classification_report(y_test, y_pred_dt_test))\n",
    "# print(confusion_matrix(y_test, y_pred_dt_test))\n",
    "\n",
    "precision_dt_test = precision_score(yy_test, y_pred_dt_test)\n",
    "recall_dt_test = recall_score(yy_test, y_pred_dt_test)\n",
    "f1_dt_test = f1_score(yy_test, y_pred_dt_test)\n",
    "\n",
    "# Display precision, recall, and f1-score\n",
    "print(f'\\nPrecision: {precision_dt_test:.4f}')\n",
    "print(f'Recall: {recall_dt_test:.4f}')\n",
    "print(f'F1-Score: {f1_dt_test:.4f}')\n",
    "\n",
    "# cv_scores = cross_val_score(decision_tree, XX_train, yy_train, cv=10) \n",
    "# print(\"Cross-Validation Scores:\", cv_scores)"
   ]
  },
  {
   "cell_type": "code",
   "execution_count": 83,
   "id": "a74179c5",
   "metadata": {},
   "outputs": [
    {
     "name": "stdout",
     "output_type": "stream",
     "text": [
      "Sensitivity (Recall): 0.7220\n",
      "Specificity: 0.7398\n"
     ]
    }
   ],
   "source": [
    "from sklearn.metrics import confusion_matrix\n",
    "\n",
    "conf_matrix = confusion_matrix(yy_test, y_pred_dt_test)\n",
    "tn, fp, fn, tp = conf_matrix.ravel()\n",
    "\n",
    "sensitivity = tp / (tp + fn)\n",
    "specificity = tn / (tn + fp)\n",
    "\n",
    "print(f'Sensitivity (Recall): {sensitivity:.4f}')\n",
    "print(f'Specificity: {specificity:.4f}')\n",
    "#Specificity is a metric used in binary classification to measure the ability of a model \n",
    "#to correctly identify the true negatives among all the actual negatives."
   ]
  },
  {
   "cell_type": "code",
   "execution_count": 88,
   "id": "bd722265",
   "metadata": {},
   "outputs": [],
   "source": [
    "# from sklearn.naive_bayes import GaussianNB\n",
    "# naive_bayes = GaussianNB()\n",
    "# naive_bayes.fit(XX_train_under, yy_train_under)\n",
    "# y_pred_nb_train = naive_bayes.predict(XX_train_under)\n",
    "# y_pred_nb_test = naive_bayes.predict(XX_test)\n",
    "\n",
    "# # Accuracy\n",
    "# accuracy_nb_train = accuracy_score(yy_train_under, y_pred_nb_train)\n",
    "# accuracy_nb_test = accuracy_score(yy_test, y_pred_nb_test)\n",
    "# print(f'Naive Bayes Training Accuracy: {accuracy_nb_train:.4f}')\n",
    "# print(f'Naive Bayes Testing Accuracy: {accuracy_nb_test:.4f}')\n",
    "\n",
    "# precision_nb_test = precision_score(yy_test, y_pred_nb_test)\n",
    "# recall_nb_test = recall_score(yy_test, y_pred_nb_test)\n",
    "# f1_nb_test = f1_score(yy_test, y_pred_nb_test)\n",
    "\n",
    "# print(f'\\nPrecision: {precision_nb_test:.4f}')\n",
    "# print(f'Recall: {recall_nb_test:.4f}')\n",
    "# print(f'F1-Score: {f1_nb_test:.4f}')\n"
   ]
  },
  {
   "cell_type": "code",
   "execution_count": 89,
   "id": "d408b2e5",
   "metadata": {},
   "outputs": [],
   "source": [
    "# from sklearn.neighbors import KNeighborsClassifier\n",
    "# k_neighbors = 5\n",
    "# knn_classifier = KNeighborsClassifier(n_neighbors=k_neighbors)\n",
    "# knn_classifier.fit(XX_train_under, yy_train_under)\n",
    "# y_pred_knn_train = knn_classifier.predict(XX_train_under)\n",
    "\n",
    "# # Predictions on the test set\n",
    "# y_pred_knn_test = knn_classifier.predict(XX_test)\n",
    "\n",
    "# # Accuracy\n",
    "# accuracy_knn_train = accuracy_score(yy_train_under, y_pred_knn_train)\n",
    "# accuracy_knn_test = accuracy_score(yy_test, y_pred_knn_test)\n",
    "# print(f'KNN Training Accuracy: {accuracy_knn_train:.4f}')\n",
    "# print(f'KNN Testing Accuracy: {accuracy_knn_test:.4f}')\n",
    "\n",
    "# precision_knn_test = precision_score(yy_test, y_pred_knn_test)\n",
    "# recall_knn_test = recall_score(yy_test, y_pred_knn_test)\n",
    "# f1_knn_test = f1_score(yy_test, y_pred_knn_test)\n",
    "\n",
    "# print(f'\\nPrecision: {precision_knn_test:.4f}')\n",
    "# print(f'Recall: {recall_knn_test:.4f}')\n",
    "# print(f'F1-Score: {f1_knn_test:.4f}')\n"
   ]
  },
  {
   "cell_type": "code",
   "execution_count": 90,
   "id": "531acea0",
   "metadata": {},
   "outputs": [],
   "source": [
    "# from xgboost import XGBClassifier\n",
    "# import xgboost\n",
    "# from sklearn.metrics import accuracy_score, precision_score, recall_score, f1_score\n",
    "\n",
    "# xgb_model = XGBClassifier()\n",
    "# xgb_model.fit(XX_train_under, yy_train_under)\n",
    "\n",
    "# y_pred_xgb_train = xgb_model.predict(XX_train_under)\n",
    "# y_pred_xgb_test = xgb_model.predict(XX_test)\n",
    "\n",
    "# accuracy_xgb_train = accuracy_score(yy_train_under, y_pred_xgb_train)\n",
    "# accuracy_xgb_test = accuracy_score(yy_test, y_pred_xgb_test)\n",
    "\n",
    "# print(f'XGBoost Training Accuracy: {accuracy_xgb_train}')\n",
    "# print(f'XGBoost Testing Accuracy: {accuracy_xgb_test}')\n",
    "\n",
    "# precision_xgb_test = precision_score(yy_test, y_pred_xgb_test)\n",
    "# recall_xgb_test = recall_score(yy_test, y_pred_xgb_test)\n",
    "# f1_xgb_test = f1_score(yy_test, y_pred_xgb_test)\n",
    "\n",
    "# print(f'\\nPrecision (XGBoost): {precision_xgb_test:.4f}')\n",
    "# print(f'Recall (XGBoost): {recall_xgb_test:.4f}')\n",
    "# print(f'F1-Score (XGBoost): {f1_xgb_test:.4f}')\n",
    "\n",
    "\n",
    "# # cv_scores = cross_val_score(xgb_model, XX_train, yy_train, cv=10) \n",
    "# # print(\"Cross-Validation Scores:\", cv_scores)"
   ]
  },
  {
   "cell_type": "markdown",
   "id": "edcc61d2",
   "metadata": {},
   "source": [
    "# oversampling "
   ]
  },
  {
   "cell_type": "code",
   "execution_count": null,
   "id": "ce21a3a3",
   "metadata": {},
   "outputs": [],
   "source": [
    "# XX = new_dataframe.drop('Resubmit_binary', axis='columns')\n",
    "# yy = new_dataframe['Resubmit_binary']\n",
    "# #X_train, X_test, y_train, y_test = train_test_split(X, y, test_size=0.2, random_state=42)"
   ]
  },
  {
   "cell_type": "code",
   "execution_count": null,
   "id": "d2c80afb",
   "metadata": {},
   "outputs": [],
   "source": [
    "# count_0_class,count_1_class = new_dataframe.Resubmit_binary.value_counts()\n",
    "# df_class_0 = new_dataframe[new_dataframe[\"Resubmit_binary\"]==0]\n",
    "# df_class_1 = new_dataframe[new_dataframe[\"Resubmit_binary\"]==1]\n",
    "# XX_train, XX_test, yy_train, yy_test = train_test_split(XX,yy, test_size=0.2,random_state=15,stratify=yy)"
   ]
  },
  {
   "cell_type": "code",
   "execution_count": null,
   "id": "52de4dd6",
   "metadata": {},
   "outputs": [],
   "source": [
    "# from sklearn.model_selection import train_test_split\n",
    "# from sklearn.utils import resample\n",
    "# XX_train, XX_test, yy_train, yy_test = train_test_split(XX, yy, test_size=0.2, random_state=15, stratify=yy)\n",
    "# df_class_0_train = XX_train[yy_train == 0]\n",
    "# df_class_1_train = XX_train[yy_train == 1]\n",
    "# df_class_0_under_train = df_class_0_train.sample(n=len(df_class_1_train), replace=True, random_state=42)\n",
    "\n",
    "# XX_train_under = pd.concat([df_class_0_under_train, df_class_1_train], axis=0)\n",
    "# yy_train_under = yy_train.loc[XX_train_under.index]\n",
    "\n",
    "# print('Random Under-sampling for Training Data:')\n",
    "# print(yy_train_under.value_counts())\n",
    "# df_class_1_over_train = resample(df_class_1_train, \n",
    "#                                   replace=True,             \n",
    "#                                   n_samples=len(df_class_0_train),\n",
    "#                                   random_state=42)\n",
    "\n",
    "# XX_train_over = pd.concat([df_class_0_train, df_class_1_over_train], axis=0)\n",
    "# yy_train_over = yy_train.loc[XX_train_over.index]\n",
    "\n",
    "# print('\\nRandom Over-sampling for Training Data:')\n",
    "# print(yy_train_over.value_counts())\n"
   ]
  },
  {
   "cell_type": "code",
   "execution_count": null,
   "id": "1e652b1e",
   "metadata": {},
   "outputs": [],
   "source": [
    "# XX_train_over.shape"
   ]
  },
  {
   "cell_type": "code",
   "execution_count": null,
   "id": "d16b4feb",
   "metadata": {},
   "outputs": [],
   "source": [
    "# yy_train_over.shape"
   ]
  },
  {
   "cell_type": "code",
   "execution_count": null,
   "id": "34e437aa",
   "metadata": {},
   "outputs": [],
   "source": [
    "# yy_test.shape"
   ]
  },
  {
   "cell_type": "code",
   "execution_count": null,
   "id": "3acc0847",
   "metadata": {},
   "outputs": [],
   "source": [
    "# from sklearn.tree import DecisionTreeClassifier\n",
    "# from sklearn.model_selection import cross_val_score\n",
    "\n",
    "# decision_tree = DecisionTreeClassifier(criterion='gini',max_depth=5)\n",
    "# decision_tree.fit(XX_train_over, yy_train_over)\n",
    "# y_pred_dt_train = decision_tree.predict(XX_train_over)\n",
    "# y_pred_dt_test = decision_tree.predict(XX_test)\n",
    "# accuracy_dt_train = accuracy_score(yy_train_over, y_pred_dt_train)\n",
    "# accuracy_dt_test = accuracy_score(yy_test, y_pred_dt_test)\n",
    "# print(f'Decision Tree Training Accuracy: {accuracy_dt_train}')\n",
    "# print(f'Decision Tree Testing Accuracy: {accuracy_dt_test}')\n",
    "# # # classification report\n",
    "# # print(classification_report(y_test, y_pred_dt_test))\n",
    "# # print(confusion_matrix(y_test, y_pred_dt_test))\n",
    "\n",
    "# precision_dt_test = precision_score(yy_test, y_pred_dt_test)\n",
    "# recall_dt_test = recall_score(yy_test, y_pred_dt_test)\n",
    "# f1_dt_test = f1_score(yy_test, y_pred_dt_test)\n",
    "\n",
    "# # Display precision, recall, and f1-score\n",
    "# print(f'\\nPrecision: {precision_dt_test:.4f}')\n",
    "# print(f'Recall: {recall_dt_test:.4f}')\n",
    "# print(f'F1-Score: {f1_dt_test:.4f}')\n",
    "\n",
    "# # cv_scores = cross_val_score(decision_tree, XX_train, yy_train, cv=10) \n",
    "# # print(\"Cross-Validation Scores:\", cv_scores)"
   ]
  },
  {
   "cell_type": "code",
   "execution_count": null,
   "id": "a695b43a",
   "metadata": {},
   "outputs": [],
   "source": [
    "# proba_predictions = decision_tree.predict_proba(XX_test)[:, 1]\n",
    "# thresholds = [0.5, 0.6, 0.7, 0.8, 0.02]\n",
    "# for threshold in thresholds:\n",
    "#     binary_predictions = (proba_predictions >= threshold).astype(int)\n",
    "#     report = classification_report(yy_test, binary_predictions)\n",
    "    \n",
    "#     print(f\"\\nClassification Report at Threshold {threshold}:\")\n",
    "#     print(report)"
   ]
  },
  {
   "cell_type": "code",
   "execution_count": null,
   "id": "2c1acfe7",
   "metadata": {},
   "outputs": [],
   "source": [
    "# from sklearn.linear_model import LogisticRegression\n",
    "# from sklearn.metrics import precision_score, recall_score, f1_score\n",
    "# logistic_regression = LogisticRegression()\n",
    "# logistic_regression.fit(XX_train_over, yy_train_over)\n",
    "# y_pred_lr_train = logistic_regression.predict(XX_train_over)\n",
    "# y_pred_lr_test = logistic_regression.predict(XX_test)\n",
    "# accuracy_lr_train = accuracy_score(yy_train_over, y_pred_lr_train)\n",
    "# accuracy_lr_test = accuracy_score(yy_test, y_pred_lr_test)\n",
    "# print(f'Logistic Regression Training Accuracy: {accuracy_lr_train}')\n",
    "# print(f'Logistic Regression Testing Accuracy: {accuracy_lr_test}')\n",
    "# precision_lr_test = precision_score(yy_test, y_pred_lr_test)\n",
    "# recall_lr_test = recall_score(yy_test, y_pred_lr_test)\n",
    "# f1_lr_test = f1_score(yy_test, y_pred_lr_test)\n",
    "\n",
    "# print(f'\\nPrecision: {precision_lr_test:.4f}')\n",
    "# print(f'Recall: {recall_lr_test:.4f}')\n",
    "# print(f'F1-Score: {f1_lr_test:.4f}')\n",
    "\n",
    "# # cv_scores = cross_val_score(logistic_regression, XX_train, yy_train, cv=10) \n",
    "# # print(\"Cross-Validation Scores:\", cv_scores)"
   ]
  },
  {
   "cell_type": "code",
   "execution_count": null,
   "id": "8ac09ee4",
   "metadata": {},
   "outputs": [],
   "source": [
    "# from sklearn.naive_bayes import GaussianNB\n",
    "# naive_bayes = GaussianNB()\n",
    "# naive_bayes.fit(XX_train_over, yy_train_over)\n",
    "# y_pred_nb_train = naive_bayes.predict(XX_train_over)\n",
    "# y_pred_nb_test = naive_bayes.predict(XX_test)\n",
    "\n",
    "# # Accuracy\n",
    "# accuracy_nb_train = accuracy_score(yy_train_over, y_pred_nb_train)\n",
    "# accuracy_nb_test = accuracy_score(yy_test, y_pred_nb_test)\n",
    "# print(f'Naive Bayes Training Accuracy: {accuracy_nb_train:.4f}')\n",
    "# print(f'Naive Bayes Testing Accuracy: {accuracy_nb_test:.4f}')\n",
    "\n",
    "# precision_nb_test = precision_score(yy_test, y_pred_nb_test)\n",
    "# recall_nb_test = recall_score(yy_test, y_pred_nb_test)\n",
    "# f1_nb_test = f1_score(yy_test, y_pred_nb_test)\n",
    "\n",
    "# print(f'\\nPrecision: {precision_nb_test:.4f}')\n",
    "# print(f'Recall: {recall_nb_test:.4f}')\n",
    "# print(f'F1-Score: {f1_nb_test:.4f}')\n"
   ]
  },
  {
   "cell_type": "code",
   "execution_count": null,
   "id": "2499dddc",
   "metadata": {},
   "outputs": [],
   "source": [
    "# from sklearn.neighbors import KNeighborsClassifier\n",
    "# k_neighbors = 5\n",
    "# knn_classifier = KNeighborsClassifier(n_neighbors=k_neighbors)\n",
    "# knn_classifier.fit(XX_train_over, yy_train_over)\n",
    "# y_pred_knn_train = knn_classifier.predict(XX_train_over)\n",
    "\n",
    "# # Predictions on the test set\n",
    "# y_pred_knn_test = knn_classifier.predict(XX_test)\n",
    "\n",
    "# # Accuracy\n",
    "# accuracy_knn_train = accuracy_score(yy_train_over, y_pred_knn_train)\n",
    "# accuracy_knn_test = accuracy_score(yy_test, y_pred_knn_test)\n",
    "# print(f'KNN Training Accuracy: {accuracy_knn_train:.4f}')\n",
    "# print(f'KNN Testing Accuracy: {accuracy_knn_test:.4f}')\n",
    "\n",
    "# precision_knn_test = precision_score(yy_test, y_pred_knn_test)\n",
    "# recall_knn_test = recall_score(yy_test, y_pred_knn_test)\n",
    "# f1_knn_test = f1_score(yy_test, y_pred_knn_test)\n",
    "\n",
    "# print(f'\\nPrecision: {precision_knn_test:.4f}')\n",
    "# print(f'Recall: {recall_knn_test:.4f}')\n",
    "# print(f'F1-Score: {f1_knn_test:.4f}')\n"
   ]
  },
  {
   "cell_type": "code",
   "execution_count": null,
   "id": "003c0338",
   "metadata": {},
   "outputs": [],
   "source": [
    "# from xgboost import XGBClassifier\n",
    "# import xgboost\n",
    "# from sklearn.metrics import accuracy_score, precision_score, recall_score, f1_score\n",
    "\n",
    "# xgb_model = XGBClassifier()\n",
    "# xgb_model.fit(XX_train_over, yy_train_over)\n",
    "\n",
    "# y_pred_xgb_train = xgb_model.predict(XX_train_over)\n",
    "# y_pred_xgb_test = xgb_model.predict(XX_test)\n",
    "\n",
    "# accuracy_xgb_train = accuracy_score(yy_train_over, y_pred_xgb_train)\n",
    "# accuracy_xgb_test = accuracy_score(yy_test, y_pred_xgb_test)\n",
    "\n",
    "# print(f'XGBoost Training Accuracy: {accuracy_xgb_train}')\n",
    "# print(f'XGBoost Testing Accuracy: {accuracy_xgb_test}')\n",
    "\n",
    "# precision_xgb_test = precision_score(yy_test, y_pred_xgb_test)\n",
    "# recall_xgb_test = recall_score(yy_test, y_pred_xgb_test)\n",
    "# f1_xgb_test = f1_score(yy_test, y_pred_xgb_test)\n",
    "\n",
    "# print(f'\\nPrecision (XGBoost): {precision_xgb_test:.4f}')\n",
    "# print(f'Recall (XGBoost): {recall_xgb_test:.4f}')\n",
    "# print(f'F1-Score (XGBoost): {f1_xgb_test:.4f}')\n",
    "\n",
    "\n",
    "# # cv_scores = cross_val_score(xgb_model, XX_train, yy_train, cv=10) \n",
    "# # print(\"Cross-Validation Scores:\", cv_scores)"
   ]
  },
  {
   "cell_type": "code",
   "execution_count": 91,
   "id": "45351e87",
   "metadata": {},
   "outputs": [
    {
     "data": {
      "text/plain": [
       "['decision_tree.pkl']"
      ]
     },
     "execution_count": 91,
     "metadata": {},
     "output_type": "execute_result"
    }
   ],
   "source": [
    "import joblib\n",
    "model = decision_tree\n",
    "joblib.dump(model, 'decision_tree.pkl', protocol=4)  # Use a specific protocol version"
   ]
  },
  {
   "cell_type": "code",
   "execution_count": 92,
   "id": "039c5d9a",
   "metadata": {},
   "outputs": [],
   "source": [
    "import joblib\n",
    "import pickle\n",
    "model_case = joblib.load('decision_tree.pkl')"
   ]
  },
  {
   "cell_type": "code",
   "execution_count": null,
   "id": "37aa736e",
   "metadata": {},
   "outputs": [],
   "source": [
    "#X_top30.to_csv('your_file_path.csv', index=False)\n",
    "#new_dataframe.to_csv(r'C:\\Users\\RameshMisale\\Downloads\\new_dataframe1.csv', index=False)"
   ]
  },
  {
   "cell_type": "markdown",
   "id": "44c50572",
   "metadata": {},
   "source": [
    "# Gaussian Naive Bayes classifier"
   ]
  },
  {
   "cell_type": "code",
   "execution_count": null,
   "id": "796a130c",
   "metadata": {},
   "outputs": [],
   "source": [
    "# from sklearn.naive_bayes import GaussianNB\n",
    "# naive_bayes = GaussianNB()\n",
    "# naive_bayes.fit(XX_train, yy_train)\n",
    "# y_pred_nb_train = naive_bayes.predict(XX_train)\n",
    "# y_pred_nb_test = naive_bayes.predict(XX_test)\n",
    "\n",
    "# # Accuracy\n",
    "# accuracy_nb_train = accuracy_score(yy_train, y_pred_nb_train)\n",
    "# accuracy_nb_test = accuracy_score(yy_test, y_pred_nb_test)\n",
    "# print(f'Naive Bayes Training Accuracy: {accuracy_nb_train:.4f}')\n",
    "# print(f'Naive Bayes Testing Accuracy: {accuracy_nb_test:.4f}')\n",
    "\n",
    "# # Precision, Recall, and F1-Score\n",
    "# precision_nb_test = precision_score(yy_test, y_pred_nb_test)\n",
    "# recall_nb_test = recall_score(yy_test, y_pred_nb_test)\n",
    "# f1_nb_test = f1_score(yy_test, y_pred_nb_test)\n",
    "\n",
    "# # Display precision, recall, and f1-score\n",
    "# print(f'\\nPrecision: {precision_nb_test:.4f}')\n",
    "# print(f'Recall: {recall_nb_test:.4f}')\n",
    "# print(f'F1-Score: {f1_nb_test:.4f}')\n"
   ]
  },
  {
   "cell_type": "markdown",
   "id": "741589ec",
   "metadata": {},
   "source": [
    "# KNeighborsClassifier"
   ]
  },
  {
   "cell_type": "code",
   "execution_count": null,
   "id": "c1fa47f6",
   "metadata": {},
   "outputs": [],
   "source": [
    "# from sklearn.neighbors import KNeighborsClassifier\n",
    "# k_neighbors = 5\n",
    "# knn_classifier = KNeighborsClassifier(n_neighbors=k_neighbors)\n",
    "# knn_classifier.fit(XX_train, yy_train)\n",
    "# y_pred_knn_train = knn_classifier.predict(XX_train)\n",
    "\n",
    "# # Predictions on the test set\n",
    "# y_pred_knn_test = knn_classifier.predict(XX_test)\n",
    "\n",
    "# # Accuracy\n",
    "# accuracy_knn_train = accuracy_score(yy_train, y_pred_knn_train)\n",
    "# accuracy_knn_test = accuracy_score(yy_test, y_pred_knn_test)\n",
    "# print(f'KNN Training Accuracy: {accuracy_knn_train:.4f}')\n",
    "# print(f'KNN Testing Accuracy: {accuracy_knn_test:.4f}')\n",
    "\n",
    "# # Precision, Recall, and F1-Score\n",
    "# precision_knn_test = precision_score(yy_test, y_pred_knn_test)\n",
    "# recall_knn_test = recall_score(yy_test, y_pred_knn_test)\n",
    "# f1_knn_test = f1_score(yy_test, y_pred_knn_test)\n",
    "\n",
    "# # Display precision, recall, and f1-score\n",
    "# print(f'\\nPrecision: {precision_knn_test:.4f}')\n",
    "# print(f'Recall: {recall_knn_test:.4f}')\n",
    "# print(f'F1-Score: {f1_knn_test:.4f}')\n"
   ]
  },
  {
   "cell_type": "code",
   "execution_count": null,
   "id": "4deb5aa3",
   "metadata": {},
   "outputs": [],
   "source": []
  },
  {
   "cell_type": "code",
   "execution_count": null,
   "id": "73f07e3e",
   "metadata": {},
   "outputs": [],
   "source": []
  },
  {
   "cell_type": "code",
   "execution_count": null,
   "id": "e38855ce",
   "metadata": {},
   "outputs": [],
   "source": []
  }
 ],
 "metadata": {
  "kernelspec": {
   "display_name": "Python 3 (ipykernel)",
   "language": "python",
   "name": "python3"
  },
  "language_info": {
   "codemirror_mode": {
    "name": "ipython",
    "version": 3
   },
   "file_extension": ".py",
   "mimetype": "text/x-python",
   "name": "python",
   "nbconvert_exporter": "python",
   "pygments_lexer": "ipython3",
   "version": "3.11.4"
  }
 },
 "nbformat": 4,
 "nbformat_minor": 5
}
